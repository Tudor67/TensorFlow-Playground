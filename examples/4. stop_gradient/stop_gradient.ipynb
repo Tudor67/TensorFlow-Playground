{
 "cells": [
  {
   "cell_type": "markdown",
   "metadata": {},
   "source": [
    "# tf.stop_gradient\n",
    "https://www.tensorflow.org/versions/r1.11/api_docs/python/tf/stop_gradient"
   ]
  },
  {
   "cell_type": "code",
   "execution_count": 1,
   "metadata": {},
   "outputs": [
    {
     "name": "stdout",
     "output_type": "stream",
     "text": [
      "sys.version: 3.6.7 |Anaconda, Inc.| (default, Oct 23 2018, 19:16:44) \n",
      "[GCC 7.3.0]\n",
      "\n",
      "tf.__version__: 1.11.0\n"
     ]
    }
   ],
   "source": [
    "import numpy as np\n",
    "import sys\n",
    "import tensorflow as tf\n",
    "\n",
    "print(f'sys.version: {sys.version}\\n')\n",
    "print(f'tf.__version__: {tf.__version__}')"
   ]
  },
  {
   "cell_type": "code",
   "execution_count": 2,
   "metadata": {},
   "outputs": [
    {
     "name": "stdout",
     "output_type": "stream",
     "text": [
      "f(2) = 28.0; df(2) = [32.0]\n",
      "\n",
      "f_stop_gradient(2) = 28.0; df_stop_gradient(2) = [20.0]\n"
     ]
    }
   ],
   "source": [
    "x = tf.placeholder(tf.float32, shape=(), name='a')\n",
    "\n",
    "f = 5 * x ** 2 + x ** 3\n",
    "df = tf.gradients(f, x)\n",
    "\n",
    "f_stop_gradient = 5 * x ** 2 + tf.stop_gradient(x ** 3)\n",
    "df_stop_gradient = tf.gradients(f_stop_gradient, x)\n",
    "\n",
    "with tf.Session() as sess:\n",
    "    sess.run(tf.global_variables_initializer())\n",
    "    \n",
    "    x_value = 2\n",
    "    \n",
    "    f_value = sess.run(f, feed_dict={x: x_value})\n",
    "    df_value = sess.run(df, feed_dict={x: x_value})\n",
    "    \n",
    "    f_stop_gradient_value = sess.run(f_stop_gradient, feed_dict={x: x_value})\n",
    "    df_stop_gradient_value = sess.run(df_stop_gradient, feed_dict={x: x_value})\n",
    "    \n",
    "    print(f'f({x_value}) = {f_value}; '\n",
    "          f'df({x_value}) = {df_value}\\n')\n",
    "    print(f'f_stop_gradient({x_value}) = {f_stop_gradient_value}; '\n",
    "          f'df_stop_gradient({x_value}) = {df_stop_gradient_value}')"
   ]
  }
 ],
 "metadata": {
  "kernelspec": {
   "display_name": "Python 3",
   "language": "python",
   "name": "python3"
  },
  "language_info": {
   "codemirror_mode": {
    "name": "ipython",
    "version": 3
   },
   "file_extension": ".py",
   "mimetype": "text/x-python",
   "name": "python",
   "nbconvert_exporter": "python",
   "pygments_lexer": "ipython3",
   "version": "3.6.7"
  }
 },
 "nbformat": 4,
 "nbformat_minor": 2
}
