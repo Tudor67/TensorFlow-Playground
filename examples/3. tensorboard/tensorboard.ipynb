{
 "cells": [
  {
   "cell_type": "markdown",
   "metadata": {},
   "source": [
    "# TensorBoard"
   ]
  },
  {
   "cell_type": "code",
   "execution_count": 1,
   "metadata": {},
   "outputs": [],
   "source": [
    "import numpy as np\n",
    "import tensorflow as tf"
   ]
  },
  {
   "cell_type": "code",
   "execution_count": 2,
   "metadata": {},
   "outputs": [],
   "source": [
    "!rm -rf './logs'"
   ]
  },
  {
   "cell_type": "code",
   "execution_count": 3,
   "metadata": {},
   "outputs": [],
   "source": [
    "tf.reset_default_graph()\n",
    "\n",
    "# weights\n",
    "with tf.variable_scope('weights'):\n",
    "    w = tf.get_variable('w', shape=[2], initializer=tf.constant_initializer([-5, 2]))\n",
    "    tf.summary.scalar('w0', w[0])\n",
    "    tf.summary.scalar('w1', w[1])\n",
    "    tf.summary.histogram('w', w)\n",
    "    tf.summary.image('w', tf.reshape(w, [1, 1, 2, 1]))\n",
    "\n",
    "# sphere function\n",
    "with tf.name_scope('f'):\n",
    "    f = tf.reduce_sum(w ** 2)\n",
    "    tf.summary.scalar('f', f)\n",
    "\n",
    "# optimizer\n",
    "optimize = tf.train.GradientDescentOptimizer(learning_rate=.1).minimize(f)\n",
    "\n",
    "# merge all summaries\n",
    "merge_summaries = tf.summary.merge_all()\n",
    "\n",
    "with tf.Session() as sess:\n",
    "    # create summary_writer\n",
    "    summary_writer = tf.summary.FileWriter('./logs', sess.graph)\n",
    "    \n",
    "    # initialization\n",
    "    sess.run(tf.global_variables_initializer())\n",
    "    \n",
    "    for i in range(71):\n",
    "        current_merged_summaries = sess.run(merge_summaries)\n",
    "        summary_writer.add_summary(current_merged_summaries, i)\n",
    "        summary_writer.flush()\n",
    "        \n",
    "        # optimization step\n",
    "        sess.run(optimize)\n",
    "    \n",
    "    # close summary_writer\n",
    "    summary_writer.close()"
   ]
  },
  {
   "cell_type": "code",
   "execution_count": 4,
   "metadata": {},
   "outputs": [],
   "source": [
    "#!tensorboard --logdir='./logs'"
   ]
  }
 ],
 "metadata": {
  "kernelspec": {
   "display_name": "Python 3",
   "language": "python",
   "name": "python3"
  },
  "language_info": {
   "codemirror_mode": {
    "name": "ipython",
    "version": 3
   },
   "file_extension": ".py",
   "mimetype": "text/x-python",
   "name": "python",
   "nbconvert_exporter": "python",
   "pygments_lexer": "ipython3",
   "version": "3.6.6"
  }
 },
 "nbformat": 4,
 "nbformat_minor": 2
}
