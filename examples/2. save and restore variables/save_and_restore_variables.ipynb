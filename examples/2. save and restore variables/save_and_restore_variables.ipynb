{
 "cells": [
  {
   "cell_type": "markdown",
   "metadata": {},
   "source": [
    "# Save and restore variables"
   ]
  },
  {
   "cell_type": "code",
   "execution_count": 1,
   "metadata": {},
   "outputs": [],
   "source": [
    "import tensorflow as tf\n",
    "\n",
    "from tensorflow.python.tools import inspect_checkpoint as chkp"
   ]
  },
  {
   "cell_type": "markdown",
   "metadata": {},
   "source": [
    "## Example 1"
   ]
  },
  {
   "cell_type": "code",
   "execution_count": 2,
   "metadata": {},
   "outputs": [
    {
     "name": "stdout",
     "output_type": "stream",
     "text": [
      "tensor_name:  v1\n",
      "[1. 1. 1. 1. 1.]\n"
     ]
    }
   ],
   "source": [
    "tf.reset_default_graph()\n",
    "\n",
    "v1 = tf.get_variable('v1', shape=[5], initializer=tf.ones_initializer())\n",
    "v2 = tf.get_variable('v2', shape=[5], initializer=tf.ones_initializer())\n",
    "v3 = v1 + v2\n",
    "\n",
    "init = tf.global_variables_initializer()\n",
    "saver = tf.train.Saver({'v1': v1})\n",
    "\n",
    "with tf.Session() as sess:\n",
    "    init.run()\n",
    "    saver.save(sess, './checkpoints/model_1.ckpt')\n",
    "\n",
    "chkp.print_tensors_in_checkpoint_file('./checkpoints/model_1.ckpt', tensor_name='', all_tensors=True)"
   ]
  },
  {
   "cell_type": "markdown",
   "metadata": {},
   "source": [
    "## Example 2"
   ]
  },
  {
   "cell_type": "code",
   "execution_count": 3,
   "metadata": {},
   "outputs": [
    {
     "name": "stdout",
     "output_type": "stream",
     "text": [
      "tensor_name:  v1\n",
      "[1. 1. 1. 1. 1.]\n",
      "tensor_name:  v2\n",
      "[1. 1. 1. 1. 1.]\n"
     ]
    }
   ],
   "source": [
    "tf.reset_default_graph()\n",
    "\n",
    "v1 = tf.get_variable('v1', shape=[5], initializer=tf.ones_initializer())\n",
    "v2 = tf.get_variable('v2', shape=[5], initializer=tf.ones_initializer())\n",
    "v3 = v1 + v2\n",
    "\n",
    "init = tf.global_variables_initializer()\n",
    "saver = tf.train.Saver()\n",
    "\n",
    "with tf.Session() as sess:\n",
    "    init.run()\n",
    "    saver.save(sess, './checkpoints/model_2.ckpt')\n",
    "\n",
    "chkp.print_tensors_in_checkpoint_file('./checkpoints/model_2.ckpt', tensor_name='', all_tensors=True)"
   ]
  },
  {
   "cell_type": "markdown",
   "metadata": {},
   "source": [
    "## Example 3"
   ]
  },
  {
   "cell_type": "code",
   "execution_count": 4,
   "metadata": {},
   "outputs": [
    {
     "name": "stdout",
     "output_type": "stream",
     "text": [
      "INFO:tensorflow:Restoring parameters from ./checkpoints/model_2.ckpt\n",
      "tensor_name:  v1\n",
      "[1. 1. 1. 1. 1.]\n",
      "tensor_name:  v2\n",
      "[1. 1. 1. 1. 1.]\n",
      "\n",
      "[1. 1. 1. 1. 1.]\n",
      "[1. 1. 1. 1. 1.]\n",
      "[2. 2. 2. 2. 2.]\n"
     ]
    }
   ],
   "source": [
    "tf.reset_default_graph()\n",
    "\n",
    "v1 = tf.get_variable('v1', shape=[5])\n",
    "v2 = tf.get_variable('v2', shape=[5])\n",
    "v3 = v1 + v2\n",
    "\n",
    "saver = tf.train.Saver()\n",
    "with tf.Session() as sess:\n",
    "    saver.restore(sess, './checkpoints/model_2.ckpt')\n",
    "    chkp.print_tensors_in_checkpoint_file('./checkpoints/model_2.ckpt', tensor_name='', all_tensors=True)\n",
    "    print()\n",
    "    print(v1.eval())\n",
    "    print(v2.eval())\n",
    "    print(v3.eval())"
   ]
  }
 ],
 "metadata": {
  "kernelspec": {
   "display_name": "Python 3",
   "language": "python",
   "name": "python3"
  },
  "language_info": {
   "codemirror_mode": {
    "name": "ipython",
    "version": 3
   },
   "file_extension": ".py",
   "mimetype": "text/x-python",
   "name": "python",
   "nbconvert_exporter": "python",
   "pygments_lexer": "ipython3",
   "version": "3.6.6"
  }
 },
 "nbformat": 4,
 "nbformat_minor": 2
}
