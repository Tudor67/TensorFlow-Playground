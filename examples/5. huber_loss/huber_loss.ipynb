{
 "cells": [
  {
   "cell_type": "code",
   "execution_count": 1,
   "metadata": {},
   "outputs": [],
   "source": [
    "import numpy as np\n",
    "import tensorflow as tf"
   ]
  },
  {
   "cell_type": "code",
   "execution_count": 2,
   "metadata": {},
   "outputs": [],
   "source": [
    "a = tf.Variable([[7],[8],[9],[5]], dtype=tf.float32)\n",
    "b = tf.Variable([[6],[10],[13],[5]], dtype=tf.float32)\n",
    "\n",
    "delta = 1\n",
    "huber_loss = tf.losses.huber_loss(labels=a,\n",
    "                                  predictions=b)"
   ]
  },
  {
   "cell_type": "code",
   "execution_count": 3,
   "metadata": {},
   "outputs": [
    {
     "name": "stdout",
     "output_type": "stream",
     "text": [
      "a:\n",
      "[[7.]\n",
      " [8.]\n",
      " [9.]\n",
      " [5.]], (4, 1)\n",
      "\n",
      "b:\n",
      "[[ 6.]\n",
      " [10.]\n",
      " [13.]\n",
      " [ 5.]], (4, 1)\n",
      "\n",
      "diff:\n",
      "[[ 1.]\n",
      " [-2.]\n",
      " [-4.]\n",
      " [ 0.]]\n",
      "\n",
      "huber_loss_precomputed:\n",
      "[0.5 1.5 3.5 0. ]\n",
      "sum:  5.5\n",
      "mean:  1.375\n",
      "\n",
      "huber_loss (tensorflow): 1.375\n"
     ]
    }
   ],
   "source": [
    "with tf.Session() as sess:\n",
    "    sess.run(tf.global_variables_initializer())\n",
    "\n",
    "    a_np = a.eval()\n",
    "    b_np = b.eval()\n",
    "    huber_loss_np = huber_loss.eval()\n",
    "\n",
    "    diff = a_np - b_np\n",
    "    huber_loss_precomp = np.zeros_like(a_np).squeeze()\n",
    "    for i in range(len(huber_loss_precomp)):\n",
    "        if abs(diff[i]) <= delta:\n",
    "            huber_loss_precomp[i] = 0.5 * (diff.squeeze()[i] ** 2)\n",
    "        else:\n",
    "            huber_loss_precomp[i] = delta * (abs(diff.squeeze()[i]) - 0.5 * delta)\n",
    "\n",
    "print(f'a:\\n{a_np}, {a_np.shape}\\n')\n",
    "print(f'b:\\n{b_np}, {b_np.shape}\\n')\n",
    "print(f'diff:\\n{diff}\\n')\n",
    "print(f'huber_loss_precomputed:')\n",
    "print(huber_loss_precomp)\n",
    "print('sum: ', huber_loss_precomp.sum())\n",
    "print('mean: ', huber_loss_precomp.mean())\n",
    "print(f'\\nhuber_loss (tensorflow):', huber_loss_np)"
   ]
  }
 ],
 "metadata": {
  "kernelspec": {
   "display_name": "Python 3",
   "language": "python",
   "name": "python3"
  },
  "language_info": {
   "codemirror_mode": {
    "name": "ipython",
    "version": 3
   },
   "file_extension": ".py",
   "mimetype": "text/x-python",
   "name": "python",
   "nbconvert_exporter": "python",
   "pygments_lexer": "ipython3",
   "version": "3.6.7"
  }
 },
 "nbformat": 4,
 "nbformat_minor": 2
}
