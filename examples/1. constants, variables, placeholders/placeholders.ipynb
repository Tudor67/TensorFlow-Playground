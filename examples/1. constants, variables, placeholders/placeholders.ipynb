{
 "cells": [
  {
   "cell_type": "markdown",
   "metadata": {},
   "source": [
    "# Placeholders\n",
    "A __placeholder__ is a promise to provide a value later."
   ]
  },
  {
   "cell_type": "code",
   "execution_count": 1,
   "metadata": {},
   "outputs": [],
   "source": [
    "import tensorflow as tf"
   ]
  },
  {
   "cell_type": "code",
   "execution_count": 2,
   "metadata": {},
   "outputs": [
    {
     "name": "stdout",
     "output_type": "stream",
     "text": [
      "Tensor(\"my_placeholder:0\", dtype=float64)\n",
      "789.0\n"
     ]
    }
   ],
   "source": [
    "a = tf.placeholder(tf.float64, name='my_placeholder')\n",
    "\n",
    "print(a)\n",
    "with tf.Session() as sess:\n",
    "    print(sess.run(a, feed_dict={a: 789}))"
   ]
  },
  {
   "cell_type": "code",
   "execution_count": 3,
   "metadata": {},
   "outputs": [
    {
     "name": "stdout",
     "output_type": "stream",
     "text": [
      "Tensor(\"Placeholder:0\", dtype=float64)\n",
      "Tensor(\"Placeholder_1:0\", dtype=float64)\n",
      "Tensor(\"add:0\", dtype=float64)\n",
      "[4. 9.]\n"
     ]
    }
   ],
   "source": [
    "x = tf.placeholder(tf.float64)\n",
    "y = tf.placeholder(tf.float64)\n",
    "z = x + y\n",
    "\n",
    "with tf.Session() as sess:\n",
    "    print(x)\n",
    "    print(y)\n",
    "    print(z)\n",
    "    print(sess.run(z, feed_dict={x: [3, 5], y: [1, 4]}))"
   ]
  }
 ],
 "metadata": {
  "kernelspec": {
   "display_name": "Python 3",
   "language": "python",
   "name": "python3"
  },
  "language_info": {
   "codemirror_mode": {
    "name": "ipython",
    "version": 3
   },
   "file_extension": ".py",
   "mimetype": "text/x-python",
   "name": "python",
   "nbconvert_exporter": "python",
   "pygments_lexer": "ipython3",
   "version": "3.6.6"
  }
 },
 "nbformat": 4,
 "nbformat_minor": 2
}
