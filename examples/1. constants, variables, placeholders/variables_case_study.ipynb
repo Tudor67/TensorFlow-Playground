{
 "cells": [
  {
   "cell_type": "markdown",
   "metadata": {},
   "source": [
    "# Variables case study"
   ]
  },
  {
   "cell_type": "code",
   "execution_count": 1,
   "metadata": {},
   "outputs": [
    {
     "name": "stdout",
     "output_type": "stream",
     "text": [
      "1.10.1\n"
     ]
    }
   ],
   "source": [
    "import numpy as np\n",
    "import tensorflow as tf\n",
    "\n",
    "from pprint import pprint\n",
    "\n",
    "print(tf.__version__)"
   ]
  },
  {
   "cell_type": "code",
   "execution_count": 2,
   "metadata": {},
   "outputs": [
    {
     "name": "stdout",
     "output_type": "stream",
     "text": [
      "<tf.Variable 'v:0' shape=() dtype=int32_ref>\n",
      "Tensor(\"add:0\", shape=(), dtype=int32) \n",
      "\n",
      "Tensors:  [<tf.Variable 'v:0' shape=() dtype=int32_ref>]\n",
      "Operations:  ['v/initial_value', 'v', 'v/Assign', 'v/read', 'add/y', 'add']\n",
      "All Tensors (from operations): \n",
      "[(<tf.Tensor 'v/initial_value:0' shape=() dtype=int32>,),\n",
      " (<tf.Tensor 'v:0' shape=() dtype=int32_ref>,),\n",
      " (<tf.Tensor 'v/Assign:0' shape=() dtype=int32_ref>,),\n",
      " (<tf.Tensor 'v/read:0' shape=() dtype=int32>,),\n",
      " (<tf.Tensor 'add/y:0' shape=() dtype=int32>,),\n",
      " (<tf.Tensor 'add:0' shape=() dtype=int32>,)]\n",
      "\n",
      "0: Tensor(\"v:0\", shape=(), dtype=int32_ref): 1\n",
      "0: Tensor(\"add:0\", shape=(), dtype=int32): 2\n",
      "\n",
      "1: Tensor(\"v:0\", shape=(), dtype=int32_ref): 1\n",
      "1: Tensor(\"add:0\", shape=(), dtype=int32): 2\n",
      "\n",
      "2: Tensor(\"v:0\", shape=(), dtype=int32_ref): 1\n",
      "2: Tensor(\"add:0\", shape=(), dtype=int32): 2\n",
      "\n",
      "3: Tensor(\"v:0\", shape=(), dtype=int32_ref): 1\n",
      "3: Tensor(\"add:0\", shape=(), dtype=int32): 2\n",
      "\n",
      "4: Tensor(\"v:0\", shape=(), dtype=int32_ref): 1\n",
      "4: Tensor(\"add:0\", shape=(), dtype=int32): 2\n",
      "\n"
     ]
    }
   ],
   "source": [
    "tf.reset_default_graph()\n",
    "\n",
    "v = tf.Variable(1, name='v')\n",
    "print(v) # v: variable\n",
    "\n",
    "v = v + 1\n",
    "print(v, '\\n') # v: tensor\n",
    "\n",
    "print('Tensors: ', tf.global_variables())\n",
    "print('Operations: ', [op.name for op in tf.get_default_graph().get_operations()])\n",
    "print('All Tensors (from operations): ')\n",
    "pprint([op.values() for op in tf.get_default_graph().get_operations()])\n",
    "print()\n",
    "\n",
    "with tf.Session() as sess:\n",
    "    sess.run(tf.global_variables_initializer())\n",
    "    \n",
    "    for i in range(5):\n",
    "        v_variable = tf.get_default_graph().get_tensor_by_name(\"v:0\")\n",
    "        print(f'{i}: {v_variable}: {v_variable.eval()}')\n",
    "        print(f'{i}: {v}: {v.eval()}\\n')"
   ]
  },
  {
   "cell_type": "code",
   "execution_count": 3,
   "metadata": {},
   "outputs": [
    {
     "name": "stdout",
     "output_type": "stream",
     "text": [
      "<tf.Variable 'v:0' shape=() dtype=int32_ref>\n",
      "Tensor(\"Assign:0\", shape=(), dtype=int32_ref) \n",
      "\n",
      "Tensors:  [<tf.Variable 'v:0' shape=() dtype=int32_ref>]\n",
      "Operations:  ['v/initial_value', 'v', 'v/Assign', 'v/read', 'add/y', 'add', 'Assign']\n",
      "All Tensors (from operations): \n",
      "[(<tf.Tensor 'v/initial_value:0' shape=() dtype=int32>,),\n",
      " (<tf.Tensor 'v:0' shape=() dtype=int32_ref>,),\n",
      " (<tf.Tensor 'v/Assign:0' shape=() dtype=int32_ref>,),\n",
      " (<tf.Tensor 'v/read:0' shape=() dtype=int32>,),\n",
      " (<tf.Tensor 'add/y:0' shape=() dtype=int32>,),\n",
      " (<tf.Tensor 'add:0' shape=() dtype=int32>,),\n",
      " (<tf.Tensor 'Assign:0' shape=() dtype=int32_ref>,)]\n",
      "\n",
      "0: Tensor(\"v:0\", shape=(), dtype=int32_ref): 1\n",
      "0: Tensor(\"Assign:0\", shape=(), dtype=int32_ref): 2\n",
      "\n",
      "1: Tensor(\"v:0\", shape=(), dtype=int32_ref): 2\n",
      "1: Tensor(\"Assign:0\", shape=(), dtype=int32_ref): 3\n",
      "\n",
      "2: Tensor(\"v:0\", shape=(), dtype=int32_ref): 3\n",
      "2: Tensor(\"Assign:0\", shape=(), dtype=int32_ref): 4\n",
      "\n",
      "3: Tensor(\"v:0\", shape=(), dtype=int32_ref): 4\n",
      "3: Tensor(\"Assign:0\", shape=(), dtype=int32_ref): 5\n",
      "\n",
      "4: Tensor(\"v:0\", shape=(), dtype=int32_ref): 5\n",
      "4: Tensor(\"Assign:0\", shape=(), dtype=int32_ref): 6\n",
      "\n"
     ]
    }
   ],
   "source": [
    "tf.reset_default_graph()\n",
    "\n",
    "v = tf.Variable(1, name='v')\n",
    "print(v) # v: variable\n",
    "\n",
    "v = tf.assign(v, v + 1)\n",
    "print(v, '\\n') # v: tensor\n",
    "\n",
    "print('Tensors: ', tf.global_variables())\n",
    "print('Operations: ', [op.name for op in tf.get_default_graph().get_operations()])\n",
    "print('All Tensors (from operations): ')\n",
    "pprint([op.values() for op in tf.get_default_graph().get_operations()])\n",
    "print()\n",
    "\n",
    "with tf.Session() as sess:\n",
    "    sess.run(tf.global_variables_initializer())\n",
    "    \n",
    "    for i in range(5):\n",
    "        v_variable = tf.get_default_graph().get_tensor_by_name(\"v:0\")\n",
    "        print(f'{i}: {v_variable}: {v_variable.eval()}')\n",
    "        print(f'{i}: {v}: {v.eval()}\\n')"
   ]
  },
  {
   "cell_type": "code",
   "execution_count": 4,
   "metadata": {},
   "outputs": [
    {
     "name": "stdout",
     "output_type": "stream",
     "text": [
      "<tf.Variable 'v:0' shape=() dtype=int32_ref>\n",
      "<tf.Variable 'v:0' shape=() dtype=int32_ref> \n",
      "\n",
      "Tensors:  [<tf.Variable 'v:0' shape=() dtype=int32_ref>]\n",
      "Operations:  ['v/initial_value', 'v', 'v/Assign', 'v/read', 'add/y', 'add', 'Assign']\n",
      "All Tensors (from operations): \n",
      "[(<tf.Tensor 'v/initial_value:0' shape=() dtype=int32>,),\n",
      " (<tf.Tensor 'v:0' shape=() dtype=int32_ref>,),\n",
      " (<tf.Tensor 'v/Assign:0' shape=() dtype=int32_ref>,),\n",
      " (<tf.Tensor 'v/read:0' shape=() dtype=int32>,),\n",
      " (<tf.Tensor 'add/y:0' shape=() dtype=int32>,),\n",
      " (<tf.Tensor 'add:0' shape=() dtype=int32>,),\n",
      " (<tf.Tensor 'Assign:0' shape=() dtype=int32_ref>,)]\n",
      "\n",
      "0: Tensor(\"v:0\", shape=(), dtype=int32_ref): 1\n",
      "0: <tf.Variable 'v:0' shape=() dtype=int32_ref>: 1\n",
      "\n",
      "1: Tensor(\"v:0\", shape=(), dtype=int32_ref): 2\n",
      "1: <tf.Variable 'v:0' shape=() dtype=int32_ref>: 2\n",
      "\n",
      "2: Tensor(\"v:0\", shape=(), dtype=int32_ref): 3\n",
      "2: <tf.Variable 'v:0' shape=() dtype=int32_ref>: 3\n",
      "\n",
      "3: Tensor(\"v:0\", shape=(), dtype=int32_ref): 4\n",
      "3: <tf.Variable 'v:0' shape=() dtype=int32_ref>: 4\n",
      "\n",
      "4: Tensor(\"v:0\", shape=(), dtype=int32_ref): 5\n",
      "4: <tf.Variable 'v:0' shape=() dtype=int32_ref>: 5\n",
      "\n"
     ]
    }
   ],
   "source": [
    "tf.reset_default_graph()\n",
    "\n",
    "v = tf.Variable(1, name='v')\n",
    "print(v) # v: variable\n",
    "\n",
    "assign_op = tf.assign(v, v + 1)\n",
    "print(v, '\\n') # v: tensor\n",
    "\n",
    "print('Tensors: ', tf.global_variables())\n",
    "print('Operations: ', [op.name for op in tf.get_default_graph().get_operations()])\n",
    "print('All Tensors (from operations): ')\n",
    "pprint([op.values() for op in tf.get_default_graph().get_operations()])\n",
    "print()\n",
    "\n",
    "with tf.Session() as sess:\n",
    "    sess.run(tf.global_variables_initializer())\n",
    "    \n",
    "    for i in range(5):\n",
    "        v_variable = tf.get_default_graph().get_tensor_by_name(\"v:0\")\n",
    "        print(f'{i}: {v_variable}: {v_variable.eval()}')\n",
    "        print(f'{i}: {v}: {v.eval()}\\n')\n",
    "        sess.run(assign_op)"
   ]
  }
 ],
 "metadata": {
  "kernelspec": {
   "display_name": "Python 3",
   "language": "python",
   "name": "python3"
  },
  "language_info": {
   "codemirror_mode": {
    "name": "ipython",
    "version": 3
   },
   "file_extension": ".py",
   "mimetype": "text/x-python",
   "name": "python",
   "nbconvert_exporter": "python",
   "pygments_lexer": "ipython3",
   "version": "3.6.6"
  }
 },
 "nbformat": 4,
 "nbformat_minor": 2
}
