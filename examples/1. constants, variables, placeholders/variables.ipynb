{
 "cells": [
  {
   "cell_type": "markdown",
   "metadata": {},
   "source": [
    "# Variables"
   ]
  },
  {
   "cell_type": "code",
   "execution_count": 1,
   "metadata": {},
   "outputs": [],
   "source": [
    "import tensorflow as tf"
   ]
  },
  {
   "cell_type": "markdown",
   "metadata": {},
   "source": [
    "## Create a variable"
   ]
  },
  {
   "cell_type": "code",
   "execution_count": 2,
   "metadata": {},
   "outputs": [
    {
     "name": "stdout",
     "output_type": "stream",
     "text": [
      "<tf.Variable 'my_variable:0' shape=() dtype=int32_ref>\n",
      "5\n"
     ]
    }
   ],
   "source": [
    "a = tf.Variable(5, name='my_variable')\n",
    "\n",
    "with tf.Session() as sess:\n",
    "    print(a)\n",
    "    sess.run(a.initializer) # initialize a\n",
    "    print(sess.run(a))"
   ]
  },
  {
   "cell_type": "code",
   "execution_count": 3,
   "metadata": {},
   "outputs": [
    {
     "name": "stdout",
     "output_type": "stream",
     "text": [
      "<tf.Variable 'my_variable_2:0' shape=(1,) dtype=int32_ref>\n",
      "[7]\n"
     ]
    }
   ],
   "source": [
    "b = tf.Variable([7], name='my_variable_2')\n",
    "\n",
    "with tf.Session() as sess:\n",
    "    print(b)\n",
    "    sess.run(tf.global_variables_initializer())\n",
    "    print(sess.run(b))"
   ]
  },
  {
   "cell_type": "code",
   "execution_count": 4,
   "metadata": {},
   "outputs": [
    {
     "name": "stdout",
     "output_type": "stream",
     "text": [
      "<tf.Variable 'my_variable_3:0' shape=() dtype=float32_ref>\n",
      "1.0\n"
     ]
    }
   ],
   "source": [
    "c = tf.get_variable('my_variable_3', shape=[], initializer=tf.ones_initializer())\n",
    "\n",
    "with tf.Session() as sess:\n",
    "    print(c)\n",
    "    sess.run(tf.global_variables_initializer())\n",
    "    print(sess.run(c))"
   ]
  },
  {
   "cell_type": "markdown",
   "metadata": {},
   "source": [
    "## Variable scope"
   ]
  },
  {
   "cell_type": "code",
   "execution_count": 5,
   "metadata": {},
   "outputs": [
    {
     "name": "stdout",
     "output_type": "stream",
     "text": [
      "<tf.Variable 'conv_layer_1/weights:0' shape=(2, 4, 3, 3) dtype=float32_ref>\n",
      "<tf.Variable 'conv_layer_1/bias:0' shape=(4,) dtype=float32_ref>\n",
      "[[[[ 0.02130371  0.2490749   0.30134627]\n",
      "   [ 0.187763   -0.30569994  0.01177144]\n",
      "   [-0.1806488   0.08117053  0.23469332]]\n",
      "\n",
      "  [[-0.09701008 -0.03358439 -0.30748695]\n",
      "   [ 0.19862804 -0.35282037  0.09220752]\n",
      "   [-0.01007932  0.2719145  -0.13614334]]\n",
      "\n",
      "  [[-0.19901454 -0.20966008 -0.17197178]\n",
      "   [ 0.06422043  0.28481373 -0.3445423 ]\n",
      "   [ 0.1931208  -0.01269352 -0.1606648 ]]\n",
      "\n",
      "  [[-0.3455357  -0.13788013  0.30084363]\n",
      "   [ 0.15995243  0.30784127  0.02130389]\n",
      "   [ 0.06994134 -0.2021706   0.13258445]]]\n",
      "\n",
      "\n",
      " [[[-0.04384562 -0.16384529 -0.1007925 ]\n",
      "   [-0.35341886 -0.26121065 -0.16902909]\n",
      "   [ 0.3520479   0.04700041 -0.07067007]]\n",
      "\n",
      "  [[-0.17795074  0.28255227 -0.06895569]\n",
      "   [ 0.16296443  0.35001162  0.02668756]\n",
      "   [-0.12336121 -0.28974533 -0.26799065]]\n",
      "\n",
      "  [[ 0.10305816  0.30050233  0.22289923]\n",
      "   [-0.03606471 -0.30439803 -0.28686586]\n",
      "   [-0.00522384  0.29215965 -0.11742011]]\n",
      "\n",
      "  [[ 0.19110075  0.34383526 -0.00729805]\n",
      "   [-0.07719854  0.17769143 -0.05722994]\n",
      "   [-0.17665717 -0.31278542 -0.12662826]]]]\n",
      "[-0.8403341  -0.04105973  0.07155633  0.43742055]\n"
     ]
    }
   ],
   "source": [
    "with tf.variable_scope('conv_layer_1'):\n",
    "    w = tf.get_variable('weights', shape=[2,4,3,3])\n",
    "    b = tf.get_variable('bias', shape=[4])\n",
    "    \n",
    "print(w)\n",
    "print(b)\n",
    "\n",
    "with tf.Session() as sess:\n",
    "    sess.run(tf.global_variables_initializer())\n",
    "    w_np, b_np = sess.run([w, b])\n",
    "    print(w_np)\n",
    "    print(b_np)"
   ]
  },
  {
   "cell_type": "code",
   "execution_count": 6,
   "metadata": {},
   "outputs": [
    {
     "name": "stdout",
     "output_type": "stream",
     "text": [
      "<tf.Variable 'test/Variable:0' shape=() dtype=int32_ref>\n",
      "12345\n"
     ]
    }
   ],
   "source": [
    "with tf.variable_scope('test'):\n",
    "    x = tf.Variable(5)\n",
    "\n",
    "print(x)\n",
    "with tf.Session() as sess:\n",
    "    print(sess.run(x, feed_dict={x: 12345}))"
   ]
  }
 ],
 "metadata": {
  "kernelspec": {
   "display_name": "Python 3",
   "language": "python",
   "name": "python3"
  },
  "language_info": {
   "codemirror_mode": {
    "name": "ipython",
    "version": 3
   },
   "file_extension": ".py",
   "mimetype": "text/x-python",
   "name": "python",
   "nbconvert_exporter": "python",
   "pygments_lexer": "ipython3",
   "version": "3.6.6"
  }
 },
 "nbformat": 4,
 "nbformat_minor": 2
}
