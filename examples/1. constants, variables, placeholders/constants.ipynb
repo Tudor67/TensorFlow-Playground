{
 "cells": [
  {
   "cell_type": "markdown",
   "metadata": {},
   "source": [
    "# Constants"
   ]
  },
  {
   "cell_type": "code",
   "execution_count": 1,
   "metadata": {},
   "outputs": [],
   "source": [
    "import tensorflow as tf"
   ]
  },
  {
   "cell_type": "markdown",
   "metadata": {},
   "source": [
    "## Create a constant"
   ]
  },
  {
   "cell_type": "code",
   "execution_count": 2,
   "metadata": {},
   "outputs": [
    {
     "name": "stdout",
     "output_type": "stream",
     "text": [
      "Tensor(\"my_constant:0\", shape=(), dtype=int32)\n",
      "5\n"
     ]
    }
   ],
   "source": [
    "c = tf.constant(5, name='my_constant')\n",
    "\n",
    "with tf.Session() as sess:\n",
    "    print(c)\n",
    "    print(sess.run(c))"
   ]
  },
  {
   "cell_type": "code",
   "execution_count": 3,
   "metadata": {},
   "outputs": [
    {
     "name": "stdout",
     "output_type": "stream",
     "text": [
      "Tensor(\"zeros:0\", shape=(3, 7), dtype=float32)\n",
      "[[0. 0. 0. 0. 0. 0. 0.]\n",
      " [0. 0. 0. 0. 0. 0. 0.]\n",
      " [0. 0. 0. 0. 0. 0. 0.]]\n"
     ]
    }
   ],
   "source": [
    "c = tf.zeros([3, 7])\n",
    "\n",
    "with tf.Session() as sess:\n",
    "    print(c)\n",
    "    print(sess.run(c))"
   ]
  },
  {
   "cell_type": "markdown",
   "metadata": {},
   "source": [
    "## Add 2 constants"
   ]
  },
  {
   "cell_type": "code",
   "execution_count": 4,
   "metadata": {},
   "outputs": [
    {
     "name": "stdout",
     "output_type": "stream",
     "text": [
      "Tensor(\"add_operation:0\", shape=(2,), dtype=int32)\n",
      "[10 14]\n"
     ]
    }
   ],
   "source": [
    "a = tf.constant([3, 5])\n",
    "b = tf.constant([7, 9])\n",
    "c = tf.add(a, b, name='add_operation')\n",
    "\n",
    "with tf.Session() as sess:\n",
    "    print(c)\n",
    "    print(sess.run(c))"
   ]
  },
  {
   "cell_type": "markdown",
   "metadata": {},
   "source": [
    "## Argmax of a constant tensor"
   ]
  },
  {
   "cell_type": "code",
   "execution_count": 5,
   "metadata": {},
   "outputs": [
    {
     "name": "stdout",
     "output_type": "stream",
     "text": [
      "Tensor(\"Const_2:0\", shape=(6,), dtype=int32)\n",
      "Tensor(\"ArgMax:0\", shape=(), dtype=int64)\n",
      "3\n"
     ]
    }
   ],
   "source": [
    "c = tf.constant([4, 5, 2, 9, 8, -1])\n",
    "argmax_op = tf.argmax(c)\n",
    "\n",
    "with tf.Session() as sess:\n",
    "    print(c)\n",
    "    print(argmax_op)\n",
    "    print(sess.run(argmax_op))"
   ]
  }
 ],
 "metadata": {
  "kernelspec": {
   "display_name": "Python 3",
   "language": "python",
   "name": "python3"
  },
  "language_info": {
   "codemirror_mode": {
    "name": "ipython",
    "version": 3
   },
   "file_extension": ".py",
   "mimetype": "text/x-python",
   "name": "python",
   "nbconvert_exporter": "python",
   "pygments_lexer": "ipython3",
   "version": "3.6.6"
  }
 },
 "nbformat": 4,
 "nbformat_minor": 2
}
